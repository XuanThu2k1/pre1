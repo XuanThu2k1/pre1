{
 "cells": [
  {
   "cell_type": "code",
   "execution_count": 1,
   "id": "dd38d316",
   "metadata": {},
   "outputs": [],
   "source": [
    "#https://archive.ics.uci.edu/ml/machine-learning-databases/00246/\n",
    "#Khai báo dữ liệu cần dùng\n",
    "import numpy as np\n",
    "import pandas as pd\n",
    "\n",
    "from sklearn.model_selection import train_test_split\n",
    "from sklearn.neighbors import KNeighborsRegressor"
   ]
  },
  {
   "cell_type": "code",
   "execution_count": 4,
   "id": "1e414858",
   "metadata": {},
   "outputs": [
    {
     "data": {
      "text/plain": [
       "(434873, 4)"
      ]
     },
     "execution_count": 4,
     "metadata": {},
     "output_type": "execute_result"
    }
   ],
   "source": [
    "#Đọc dữ liệu\n",
    "df = pd.read_csv(\"spatial.txt\")\n",
    "df.shape"
   ]
  },
  {
   "cell_type": "code",
   "execution_count": 5,
   "id": "9bacd5b4",
   "metadata": {},
   "outputs": [
    {
     "data": {
      "text/html": [
       "<div>\n",
       "<style scoped>\n",
       "    .dataframe tbody tr th:only-of-type {\n",
       "        vertical-align: middle;\n",
       "    }\n",
       "\n",
       "    .dataframe tbody tr th {\n",
       "        vertical-align: top;\n",
       "    }\n",
       "\n",
       "    .dataframe thead th {\n",
       "        text-align: right;\n",
       "    }\n",
       "</style>\n",
       "<table border=\"1\" class=\"dataframe\">\n",
       "  <thead>\n",
       "    <tr style=\"text-align: right;\">\n",
       "      <th></th>\n",
       "      <th>144552912</th>\n",
       "      <th>9.3498486</th>\n",
       "      <th>56.7408757</th>\n",
       "      <th>17.0527715677876</th>\n",
       "    </tr>\n",
       "  </thead>\n",
       "  <tbody>\n",
       "    <tr>\n",
       "      <th>0</th>\n",
       "      <td>144552912</td>\n",
       "      <td>9.350188</td>\n",
       "      <td>56.740679</td>\n",
       "      <td>17.614840</td>\n",
       "    </tr>\n",
       "    <tr>\n",
       "      <th>1</th>\n",
       "      <td>144552912</td>\n",
       "      <td>9.350549</td>\n",
       "      <td>56.740544</td>\n",
       "      <td>18.083536</td>\n",
       "    </tr>\n",
       "    <tr>\n",
       "      <th>2</th>\n",
       "      <td>144552912</td>\n",
       "      <td>9.350806</td>\n",
       "      <td>56.740485</td>\n",
       "      <td>18.279465</td>\n",
       "    </tr>\n",
       "    <tr>\n",
       "      <th>3</th>\n",
       "      <td>144552912</td>\n",
       "      <td>9.351053</td>\n",
       "      <td>56.740486</td>\n",
       "      <td>18.422974</td>\n",
       "    </tr>\n",
       "    <tr>\n",
       "      <th>4</th>\n",
       "      <td>144552912</td>\n",
       "      <td>9.351475</td>\n",
       "      <td>56.740502</td>\n",
       "      <td>19.124889</td>\n",
       "    </tr>\n",
       "  </tbody>\n",
       "</table>\n",
       "</div>"
      ],
      "text/plain": [
       "   144552912  9.3498486  56.7408757  17.0527715677876\n",
       "0  144552912   9.350188   56.740679         17.614840\n",
       "1  144552912   9.350549   56.740544         18.083536\n",
       "2  144552912   9.350806   56.740485         18.279465\n",
       "3  144552912   9.351053   56.740486         18.422974\n",
       "4  144552912   9.351475   56.740502         19.124889"
      ]
     },
     "execution_count": 5,
     "metadata": {},
     "output_type": "execute_result"
    }
   ],
   "source": [
    "#Khám phá tập dữ liệu\n",
    "df.head()"
   ]
  },
  {
   "cell_type": "code",
   "execution_count": 14,
   "id": "670b0675",
   "metadata": {},
   "outputs": [],
   "source": [
    "#Đổi tên các cột trong DataFrame theo thứ tự\n",
    "df.columns = ['a','s','d','f']"
   ]
  },
  {
   "cell_type": "code",
   "execution_count": 15,
   "id": "c890e514",
   "metadata": {},
   "outputs": [
    {
     "data": {
      "text/plain": [
       "Index(['a', 's', 'd', 'f'], dtype='object')"
      ]
     },
     "execution_count": 15,
     "metadata": {},
     "output_type": "execute_result"
    }
   ],
   "source": [
    "#Khám phá tập dữ liệu\n",
    "df.columns"
   ]
  },
  {
   "cell_type": "code",
   "execution_count": 16,
   "id": "623cce15",
   "metadata": {},
   "outputs": [],
   "source": [
    "features = ['a','s','d','f']"
   ]
  },
  {
   "cell_type": "code",
   "execution_count": 17,
   "id": "2d198ac0",
   "metadata": {},
   "outputs": [
    {
     "data": {
      "text/html": [
       "<div>\n",
       "<style scoped>\n",
       "    .dataframe tbody tr th:only-of-type {\n",
       "        vertical-align: middle;\n",
       "    }\n",
       "\n",
       "    .dataframe tbody tr th {\n",
       "        vertical-align: top;\n",
       "    }\n",
       "\n",
       "    .dataframe thead th {\n",
       "        text-align: right;\n",
       "    }\n",
       "</style>\n",
       "<table border=\"1\" class=\"dataframe\">\n",
       "  <thead>\n",
       "    <tr style=\"text-align: right;\">\n",
       "      <th></th>\n",
       "      <th>a</th>\n",
       "      <th>s</th>\n",
       "      <th>d</th>\n",
       "      <th>f</th>\n",
       "    </tr>\n",
       "  </thead>\n",
       "  <tbody>\n",
       "    <tr>\n",
       "      <th>0</th>\n",
       "      <td>144552912</td>\n",
       "      <td>9.350188</td>\n",
       "      <td>56.740679</td>\n",
       "      <td>17.614840</td>\n",
       "    </tr>\n",
       "    <tr>\n",
       "      <th>1</th>\n",
       "      <td>144552912</td>\n",
       "      <td>9.350549</td>\n",
       "      <td>56.740544</td>\n",
       "      <td>18.083536</td>\n",
       "    </tr>\n",
       "    <tr>\n",
       "      <th>2</th>\n",
       "      <td>144552912</td>\n",
       "      <td>9.350806</td>\n",
       "      <td>56.740485</td>\n",
       "      <td>18.279465</td>\n",
       "    </tr>\n",
       "    <tr>\n",
       "      <th>3</th>\n",
       "      <td>144552912</td>\n",
       "      <td>9.351053</td>\n",
       "      <td>56.740486</td>\n",
       "      <td>18.422974</td>\n",
       "    </tr>\n",
       "    <tr>\n",
       "      <th>4</th>\n",
       "      <td>144552912</td>\n",
       "      <td>9.351475</td>\n",
       "      <td>56.740502</td>\n",
       "      <td>19.124889</td>\n",
       "    </tr>\n",
       "  </tbody>\n",
       "</table>\n",
       "</div>"
      ],
      "text/plain": [
       "           a         s          d          f\n",
       "0  144552912  9.350188  56.740679  17.614840\n",
       "1  144552912  9.350549  56.740544  18.083536\n",
       "2  144552912  9.350806  56.740485  18.279465\n",
       "3  144552912  9.351053  56.740486  18.422974\n",
       "4  144552912  9.351475  56.740502  19.124889"
      ]
     },
     "execution_count": 17,
     "metadata": {},
     "output_type": "execute_result"
    }
   ],
   "source": [
    "data=df[features]\n",
    "data.head()"
   ]
  },
  {
   "cell_type": "code",
   "execution_count": 18,
   "id": "b677edfa",
   "metadata": {},
   "outputs": [
    {
     "name": "stdout",
     "output_type": "stream",
     "text": [
      "<class 'pandas.core.frame.DataFrame'>\n",
      "RangeIndex: 434873 entries, 0 to 434872\n",
      "Data columns (total 4 columns):\n",
      " #   Column  Non-Null Count   Dtype  \n",
      "---  ------  --------------   -----  \n",
      " 0   a       434873 non-null  int64  \n",
      " 1   s       434873 non-null  float64\n",
      " 2   d       434873 non-null  float64\n",
      " 3   f       434873 non-null  float64\n",
      "dtypes: float64(3), int64(1)\n",
      "memory usage: 13.3 MB\n"
     ]
    }
   ],
   "source": [
    "data.info()"
   ]
  },
  {
   "cell_type": "code",
   "execution_count": 19,
   "id": "fe225dc1",
   "metadata": {},
   "outputs": [
    {
     "data": {
      "text/html": [
       "<div>\n",
       "<style scoped>\n",
       "    .dataframe tbody tr th:only-of-type {\n",
       "        vertical-align: middle;\n",
       "    }\n",
       "\n",
       "    .dataframe tbody tr th {\n",
       "        vertical-align: top;\n",
       "    }\n",
       "\n",
       "    .dataframe thead th {\n",
       "        text-align: right;\n",
       "    }\n",
       "</style>\n",
       "<table border=\"1\" class=\"dataframe\">\n",
       "  <thead>\n",
       "    <tr style=\"text-align: right;\">\n",
       "      <th></th>\n",
       "      <th>a</th>\n",
       "      <th>s</th>\n",
       "      <th>d</th>\n",
       "    </tr>\n",
       "  </thead>\n",
       "  <tbody>\n",
       "    <tr>\n",
       "      <th>0</th>\n",
       "      <td>144552912</td>\n",
       "      <td>9.350188</td>\n",
       "      <td>56.740679</td>\n",
       "    </tr>\n",
       "    <tr>\n",
       "      <th>1</th>\n",
       "      <td>144552912</td>\n",
       "      <td>9.350549</td>\n",
       "      <td>56.740544</td>\n",
       "    </tr>\n",
       "    <tr>\n",
       "      <th>2</th>\n",
       "      <td>144552912</td>\n",
       "      <td>9.350806</td>\n",
       "      <td>56.740485</td>\n",
       "    </tr>\n",
       "    <tr>\n",
       "      <th>3</th>\n",
       "      <td>144552912</td>\n",
       "      <td>9.351053</td>\n",
       "      <td>56.740486</td>\n",
       "    </tr>\n",
       "    <tr>\n",
       "      <th>4</th>\n",
       "      <td>144552912</td>\n",
       "      <td>9.351475</td>\n",
       "      <td>56.740502</td>\n",
       "    </tr>\n",
       "    <tr>\n",
       "      <th>...</th>\n",
       "      <td>...</td>\n",
       "      <td>...</td>\n",
       "      <td>...</td>\n",
       "    </tr>\n",
       "    <tr>\n",
       "      <th>434868</th>\n",
       "      <td>93323205</td>\n",
       "      <td>9.936479</td>\n",
       "      <td>57.499686</td>\n",
       "    </tr>\n",
       "    <tr>\n",
       "      <th>434869</th>\n",
       "      <td>93323205</td>\n",
       "      <td>9.935696</td>\n",
       "      <td>57.499426</td>\n",
       "    </tr>\n",
       "    <tr>\n",
       "      <th>434870</th>\n",
       "      <td>93323205</td>\n",
       "      <td>9.935009</td>\n",
       "      <td>57.499282</td>\n",
       "    </tr>\n",
       "    <tr>\n",
       "      <th>434871</th>\n",
       "      <td>93323209</td>\n",
       "      <td>9.943479</td>\n",
       "      <td>57.495919</td>\n",
       "    </tr>\n",
       "    <tr>\n",
       "      <th>434872</th>\n",
       "      <td>93323209</td>\n",
       "      <td>9.943451</td>\n",
       "      <td>57.496270</td>\n",
       "    </tr>\n",
       "  </tbody>\n",
       "</table>\n",
       "<p>434873 rows × 3 columns</p>\n",
       "</div>"
      ],
      "text/plain": [
       "                a         s          d\n",
       "0       144552912  9.350188  56.740679\n",
       "1       144552912  9.350549  56.740544\n",
       "2       144552912  9.350806  56.740485\n",
       "3       144552912  9.351053  56.740486\n",
       "4       144552912  9.351475  56.740502\n",
       "...           ...       ...        ...\n",
       "434868   93323205  9.936479  57.499686\n",
       "434869   93323205  9.935696  57.499426\n",
       "434870   93323205  9.935009  57.499282\n",
       "434871   93323209  9.943479  57.495919\n",
       "434872   93323209  9.943451  57.496270\n",
       "\n",
       "[434873 rows x 3 columns]"
      ]
     },
     "execution_count": 19,
     "metadata": {},
     "output_type": "execute_result"
    }
   ],
   "source": [
    "#Chọn tập huấn luyện và kiểm tra\n",
    "X=data.iloc[:,:-1]\n",
    "X"
   ]
  },
  {
   "cell_type": "code",
   "execution_count": 20,
   "id": "25f40874",
   "metadata": {},
   "outputs": [
    {
     "data": {
      "text/plain": [
       "0         17.614840\n",
       "1         18.083536\n",
       "2         18.279465\n",
       "3         18.422974\n",
       "4         19.124889\n",
       "            ...    \n",
       "434868    20.134033\n",
       "434869    20.580884\n",
       "434870    19.733141\n",
       "434871    24.027015\n",
       "434872    24.635285\n",
       "Name: f, Length: 434873, dtype: float64"
      ]
     },
     "execution_count": 20,
     "metadata": {},
     "output_type": "execute_result"
    }
   ],
   "source": [
    "#Chọn tập kiểm tra\n",
    "y=data.iloc[:,-1]\n",
    "y"
   ]
  },
  {
   "cell_type": "code",
   "execution_count": 21,
   "id": "938fd02c",
   "metadata": {},
   "outputs": [
    {
     "data": {
      "text/plain": [
       "((304411, 3), (130462, 3), (304411,), (130462,))"
      ]
     },
     "execution_count": 21,
     "metadata": {},
     "output_type": "execute_result"
    }
   ],
   "source": [
    "# Chia dữ liệu thành tập huấn luyện và tập kiểm tra\n",
    "X_train, X_test, y_train, y_test = train_test_split(X, y, test_size=0.3, random_state=4)\n",
    "X_train.shape, X_test.shape, y_train.shape, y_test.shape"
   ]
  },
  {
   "cell_type": "code",
   "execution_count": 22,
   "id": "7186b6f8",
   "metadata": {},
   "outputs": [
    {
     "name": "stdout",
     "output_type": "stream",
     "text": [
      "        y_predicted     y_test\n",
      "135817    55.481003  55.885364\n",
      "208716     7.301944   4.277510\n",
      "93822      3.970312   3.173507\n",
      "244125    29.519881  29.734657\n",
      "85268     38.419195  36.217164\n",
      "...             ...        ...\n",
      "343118     7.335496   8.637897\n",
      "427665     8.072962   7.859548\n",
      "424516     2.728664   2.733222\n",
      "382929    25.012444  24.692665\n",
      "154990    49.327467  48.275496\n",
      "\n",
      "[130462 rows x 2 columns]\n"
     ]
    }
   ],
   "source": [
    "#Tạo và điều chỉnh mô hình hồi quy\n",
    "knn_Reg=KNeighborsRegressor(n_neighbors = 3)\n",
    "knn_Reg.fit(X_train, y_train)\n",
    "#Đưa ra dự đoán\n",
    "y_predicted = knn_Reg.predict(X_test)\n",
    "print(pd.DataFrame({\"y_predicted\": y_predicted, \"y_test\":y_test}))"
   ]
  },
  {
   "cell_type": "code",
   "execution_count": 25,
   "id": "73224030",
   "metadata": {},
   "outputs": [],
   "source": [
    "#linear model\n",
    "#Khai phá thư viện cần dùng\n",
    "from sklearn.linear_model import LinearRegression"
   ]
  },
  {
   "cell_type": "code",
   "execution_count": 24,
   "id": "69e2064f",
   "metadata": {},
   "outputs": [
    {
     "name": "stdout",
     "output_type": "stream",
     "text": [
      "        y_predicted     y_test\n",
      "135817    24.944395  55.885364\n",
      "208716    18.156897   4.277510\n",
      "93822     22.159036   3.173507\n",
      "244125    18.734175  29.734657\n",
      "85268     20.420064  36.217164\n",
      "...             ...        ...\n",
      "343118    19.440477   8.637897\n",
      "427665    14.528062   7.859548\n",
      "424516    27.846413   2.733222\n",
      "382929    19.202894  24.692665\n",
      "154990    27.084150  48.275496\n",
      "\n",
      "[130462 rows x 2 columns]\n"
     ]
    }
   ],
   "source": [
    "#Tạo và điều chỉnh mô hình hồi quy tuyến tính\n",
    "Linear_Reg = LinearRegression()\n",
    "Linear_Reg.fit(X_train, y_train)\n",
    "#Đưa ra dự đoán\n",
    "y_predicted = Linear_Reg.predict(X_test)\n",
    "print(pd.DataFrame({\"y_predicted\": y_predicted, \"y_test\":y_test}))"
   ]
  },
  {
   "cell_type": "code",
   "execution_count": 26,
   "id": "43eec4b8",
   "metadata": {},
   "outputs": [
    {
     "data": {
      "text/plain": [
       "array([ 4.99827845e-08,  4.49824068e+00, -1.20120421e+01])"
      ]
     },
     "execution_count": 26,
     "metadata": {},
     "output_type": "execute_result"
    }
   ],
   "source": [
    "\n",
    "w= Linear_Reg.coef_\n",
    "w"
   ]
  },
  {
   "cell_type": "code",
   "execution_count": 27,
   "id": "8dfff884",
   "metadata": {},
   "outputs": [
    {
     "data": {
      "text/plain": [
       "659.2497690664859"
      ]
     },
     "execution_count": 27,
     "metadata": {},
     "output_type": "execute_result"
    }
   ],
   "source": [
    "#Sử dụng để chặn hồi quy tuyến tính\n",
    "w0= Linear_Reg.intercept_\n",
    "w0"
   ]
  },
  {
   "cell_type": "code",
   "execution_count": 29,
   "id": "f66af75e",
   "metadata": {},
   "outputs": [
    {
     "data": {
      "text/plain": [
       "14.352325251908637"
      ]
     },
     "execution_count": 29,
     "metadata": {},
     "output_type": "execute_result"
    }
   ],
   "source": [
    "#Đánh giá lỗi\n",
    "def MAE(y, yhat):\n",
    "    return np.sum(np.abs(y-yhat))/len(y)\n",
    "MAE(y_test, y_predicted)"
   ]
  },
  {
   "cell_type": "code",
   "execution_count": null,
   "id": "b3c3782e",
   "metadata": {},
   "outputs": [],
   "source": []
  }
 ],
 "metadata": {
  "kernelspec": {
   "display_name": "Python 3 (ipykernel)",
   "language": "python",
   "name": "python3"
  },
  "language_info": {
   "codemirror_mode": {
    "name": "ipython",
    "version": 3
   },
   "file_extension": ".py",
   "mimetype": "text/x-python",
   "name": "python",
   "nbconvert_exporter": "python",
   "pygments_lexer": "ipython3",
   "version": "3.10.9"
  }
 },
 "nbformat": 4,
 "nbformat_minor": 5
}
